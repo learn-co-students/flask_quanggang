{
 "cells": [
  {
   "cell_type": "markdown",
   "metadata": {},
   "source": [
    "# Example of ML in a Web Server Interface\n",
    "\n",
    "![img](img/client_server.png)\n",
    "\n",
    "1. The user navigates to the home page\n",
    " - User enters URL\n",
    " - Browser requests URL from server\n",
    " - Server responds with home page code\n",
    " - Browser displays home page code\n",
    "2. The user inputs features into a form and submits it\n",
    "3. The server takes those values and produces a prediction\n",
    " - Extracts features\n",
    " - Opens ML model to make prediction\n",
    " - Sends a redirect containing the prediction to the browser\n",
    "4. The user views those results\n",
    " - Browser requests results page code\n",
    " - Server returns results page code\n",
    " - Browser displays results to the user\n",
    "\n"
   ]
  },
  {
   "cell_type": "markdown",
   "metadata": {},
   "source": [
    "There are two flask applications in this repo.  The one named stored in the folder `functional_app`, works right off the bat.  We will change the app stored in the `tobefunctional_app` so that it functions as well."
   ]
  },
  {
   "cell_type": "markdown",
   "metadata": {},
   "source": [
    "## Installs"
   ]
  },
  {
   "cell_type": "markdown",
   "metadata": {},
   "source": [
    "We need one main new library, `flask`\n",
    "\n",
    "`conda install -c anaconda flask`"
   ]
  },
  {
   "cell_type": "markdown",
   "metadata": {},
   "source": [
    "You will also need `waitress`\n",
    "\n",
    "`conda install -c anaconda waitress`"
   ]
  },
  {
   "cell_type": "markdown",
   "metadata": {},
   "source": [
    "## Run"
   ]
  },
  {
   "cell_type": "markdown",
   "metadata": {},
   "source": [
    "To run the app, we need to tell Flask where to find the application. Our application is named `app.py`. Run the following to:"
   ]
  },
  {
   "cell_type": "markdown",
   "metadata": {},
   "source": [
    "`export FLASK_APP=app`"
   ]
  },
  {
   "cell_type": "markdown",
   "metadata": {},
   "source": [
    "We can also run `export FLASK_ENV=development` so that changes we make to the application will register without restarting the server."
   ]
  },
  {
   "cell_type": "markdown",
   "metadata": {},
   "source": [
    "Windows users may need slightly different commands\n",
    "\n",
    "`set FLASK_APP=flaskr`  \n",
    "`set FLASK_ENV=development`\n",
    "\n",
    "\n",
    "[source](https://flask.palletsprojects.com/en/1.1.x/tutorial/factory/):\n"
   ]
  },
  {
   "cell_type": "markdown",
   "metadata": {},
   "source": [
    "After running the prior commands:\n",
    "\n",
    "1. `cd` into the `functional_app` folder  \n",
    "2. run `flask run` to start the server.  \n",
    "\n",
    "Open a web address, and navigate to `http://127.0.0.1:5000/` as specified in the terminal.\n",
    "\n"
   ]
  },
  {
   "cell_type": "markdown",
   "metadata": {},
   "source": [
    "This simple app gives the user the ability to predict the population of fawns that will appear in the spring.  \n",
    "\n",
    "The model was trained independently of the notebook. It is a pipeline which uses a custom transformer that changes a continuous preciptation input into a binary indicating high or low precipitation, a One Hot Encoder representing the severity of winter, and a linear regression model using those two transformed variables plus the continuous value, adult antelope population, to predict a continous output.  \n",
    "\n",
    "Let's look at the pickled model."
   ]
  },
  {
   "cell_type": "code",
   "execution_count": 1,
   "metadata": {},
   "outputs": [],
   "source": [
    "import sys,os\n",
    "sys.path.append('functional_app/')"
   ]
  },
  {
   "cell_type": "code",
   "execution_count": 2,
   "metadata": {},
   "outputs": [],
   "source": [
    "import pickle\n",
    "\n",
    "with open('functional_app/src/models/model.pkl', 'rb') as read_file:\n",
    "    pipeline = pickle.load(read_file)"
   ]
  },
  {
   "cell_type": "code",
   "execution_count": 3,
   "metadata": {},
   "outputs": [
    {
     "data": {
      "text/plain": [
       "Pipeline(steps=[('transform_precip', PrecipitationTransformer()),\n",
       "                ('encode_winter',\n",
       "                 ColumnTransformer(remainder='passthrough',\n",
       "                                   transformers=[('ohe',\n",
       "                                                  OneHotEncoder(handle_unknown='ignore',\n",
       "                                                                sparse=False),\n",
       "                                                  ['winter_severity_index'])])),\n",
       "                ('linreg_model', LinearRegression())])"
      ]
     },
     "execution_count": 3,
     "metadata": {},
     "output_type": "execute_result"
    }
   ],
   "source": [
    "pipeline"
   ]
  },
  {
   "cell_type": "code",
   "execution_count": 4,
   "metadata": {},
   "outputs": [],
   "source": [
    "import pandas as pd\n",
    "X = pd.DataFrame.from_dict({'adult_antelope_population':[7.2],\n",
    "                          'annual_precipitation':[10.8],  \n",
    "                          'winter_severity_index':[2.0]}, )\n",
    "                                                     "
   ]
  },
  {
   "cell_type": "code",
   "execution_count": 5,
   "metadata": {},
   "outputs": [
    {
     "data": {
      "text/plain": [
       "array([1.21764702])"
      ]
     },
     "execution_count": 5,
     "metadata": {},
     "output_type": "execute_result"
    }
   ],
   "source": [
    "pipeline.predict(X)"
   ]
  },
  {
   "cell_type": "markdown",
   "metadata": {},
   "source": [
    "# Non-functional App"
   ]
  },
  {
   "cell_type": "markdown",
   "metadata": {},
   "source": [
    "To learn about how flask works, we will edit the non-functional app so that it becomes functional."
   ]
  },
  {
   "cell_type": "markdown",
   "metadata": {},
   "source": [
    "## app.py"
   ]
  },
  {
   "cell_type": "markdown",
   "metadata": {},
   "source": [
    "The app.py file is where we define the different behaviors that occur when we navigate to different parts of our application.  \n",
    "\n",
    "The first function we will define is the one which loads the home page of our app.  In web development, this homepage is named `index.html` so our first function will be called `index`.  \n",
    "\n",
    "We specify what route is associated with the function with the `@app.route()` decorator.  Since we want this function to load the home page, we pass the path '/' to the decorator.\n",
    "\n",
    "We also want to tell the function to load the `index.html` file in the `static` folder.  \n",
    "\n",
    "Fill in the missing parts of the index() function to make it render the homepage. "
   ]
  },
  {
   "cell_type": "code",
   "execution_count": 14,
   "metadata": {},
   "outputs": [],
   "source": [
    "# Take 3 minutes"
   ]
  },
  {
   "cell_type": "markdown",
   "metadata": {},
   "source": [
    "# index.html\n",
    "\n",
    "The index.html file is the homepage of our application.  For many machine learning apps, this will have a form embedded in it which takes as inputs values that can we can call .predict() on in our models.\n",
    "\n",
    "The nonfunctional_app index.html loads, but it does not function.  Try clicking the `submit` button.  \n",
    "\n",
    "In order to make it function, we need to specify the action which will occur when the form is filled out and submitted.  This takes the form of a function defined in the app.py associated with the url to make a prediction.  \n",
    "\n",
    "Look in the app.py document, and find the url that we need to place into `action` attribute of the form. "
   ]
  },
  {
   "cell_type": "markdown",
   "metadata": {},
   "source": [
    "![protocol](img/http_protocol.png)"
   ]
  },
  {
   "cell_type": "markdown",
   "metadata": {},
   "source": [
    "The html \"POST\" method takes a form's user input and sends it to the server.  In the index.html form, we have to pass \"POST\" as the method as well."
   ]
  },
  {
   "cell_type": "code",
   "execution_count": 11,
   "metadata": {},
   "outputs": [],
   "source": [
    "# Take 3 minutes"
   ]
  },
  {
   "cell_type": "markdown",
   "metadata": {},
   "source": [
    "# Feature Engineering and Prediction\n",
    "\n",
    "The form passes the user input to the server.  Let's follow the path of the data. \n",
    "\n",
    "\n",
    "The user inputs data into the form and hits submit, which calls the `make_prediction()` function located in `app.py`.\n",
    "\n",
    "`make_prediction()` takes the user input, and assigns it to the variable `data`.  Look at the terminal where you launched the flask app.  It should print out the form of the data as it is received from the form.  The data are strings which need to be converted to floats.\n",
    "\n",
    "To do so, there is a function within the `utils.py` folder which will do the conversion.  \n",
    "\n",
    "Fill in `None` to the make_prediction() method so that the numbers are converted.\n"
   ]
  },
  {
   "cell_type": "code",
   "execution_count": 12,
   "metadata": {},
   "outputs": [],
   "source": [
    "# Take 3 minutes"
   ]
  },
  {
   "cell_type": "markdown",
   "metadata": {},
   "source": [
    "The method above converts the data input from the form into a dataframe with the correct feature names and type.  "
   ]
  },
  {
   "cell_type": "markdown",
   "metadata": {},
   "source": [
    "## Predict\n",
    "Heading back to the `app.py` file, the next step is to take the dataframe and pass it to the model to make a prediction.  Find the correct method and replace the second `None` with it.\n"
   ]
  },
  {
   "cell_type": "code",
   "execution_count": 13,
   "metadata": {},
   "outputs": [],
   "source": [
    "# Take 3 minutes"
   ]
  },
  {
   "cell_type": "markdown",
   "metadata": {},
   "source": [
    "The `predictor.py` file has two functions inside it.  The first takes the pickled model and unpickles it.  In order to successfully unpickle it, the custom_transformers.py file has to be present in the same folder.  Otherwise, the model won't load.  \n",
    "\n",
    "The steps above have prepared the data so that it is ready to be transformed by our pipeline and fed into the logistic regression model to predict a continuous output."
   ]
  },
  {
   "cell_type": "markdown",
   "metadata": {},
   "source": [
    "# Results"
   ]
  },
  {
   "cell_type": "markdown",
   "metadata": {},
   "source": [
    "The last step in the process is to take the prediction and display it to the viewer. The last line in the `app.py` file calls the method associated with the /show_results url, and sends the prediction to it via the 2nd param. The results form in the static folder then renders this prediction in html.     \n",
    "\n",
    "Now, let's make /show_results work properly.  Change the show_results method to grab the correct parameter from the url, and then match the missing variable in results.html to the missing variable in the render_template function.\n"
   ]
  },
  {
   "cell_type": "code",
   "execution_count": null,
   "metadata": {},
   "outputs": [],
   "source": [
    "# Take 3 minutes"
   ]
  }
 ],
 "metadata": {
  "kernelspec": {
   "display_name": "learn-env",
   "language": "python",
   "name": "learn-env"
  },
  "language_info": {
   "codemirror_mode": {
    "name": "ipython",
    "version": 3
   },
   "file_extension": ".py",
   "mimetype": "text/x-python",
   "name": "python",
   "nbconvert_exporter": "python",
   "pygments_lexer": "ipython3",
   "version": "3.7.3"
  }
 },
 "nbformat": 4,
 "nbformat_minor": 4
}
